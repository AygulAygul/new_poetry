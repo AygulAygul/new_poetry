{
  "nbformat": 4,
  "nbformat_minor": 0,
  "metadata": {
    "colab": {
      "provenance": [],
      "collapsed_sections": [
        "heDlxf3Epwm3",
        "aX9vt7nW5mfs",
        "D9hiwQd2p_Iw",
        "LKxX_QlQvuo3"
      ]
    },
    "kernelspec": {
      "name": "python3",
      "display_name": "Python 3"
    },
    "language_info": {
      "name": "python"
    }
  },
  "cells": [
    {
      "cell_type": "markdown",
      "source": [
        "# Поиск похожих текстов\n",
        "\n",
        "**Идея:** найти пословицу (в другой версии документа это было стихотворение), наиболее близкое по смыслу к новостям дня - то есть проиллюстрировать новости \"художественным словом\".\n",
        "\n",
        "**Цель:** учебный проект для тренировки навыков в обработке текстов, создании плотных векторных представлений, работе с полученными матрицами\n",
        "\n",
        "**Задачи:**\n",
        "\n",
        "1. При помощи простого парсера собрать новостные тексты\n",
        "2. Собрать короткие художественные тексты - в текущей версии документа это пословицы и поговорки, также эксперимент проводился со сборником стихотворений русских поэтов\n",
        "3. Предобработать тексты - вычистить от малоинформативных слов, пунктуации, токенизировать и привести слова к начальной форме.\n",
        "4. Получить плотные векторные представления\n",
        "5. Вычислив минимальное косинусное расстояние между векторами текстов новостей и художественных текстов, найти то произведение, которое лучше всего отражает смысл актуальных новостей\n",
        "6. Вывести найденный текст и ключевые слова новостей, чтобы оценить результаты эксперимента"
      ],
      "metadata": {
        "id": "_ZYhKUnnllSr"
      }
    },
    {
      "cell_type": "markdown",
      "source": [
        "### 1. Импорт библиотек и модулей, назначение констант"
      ],
      "metadata": {
        "id": "heDlxf3Epwm3"
      }
    },
    {
      "cell_type": "code",
      "source": [
        "import re\n",
        "import string\n",
        "import requests\n",
        "from bs4 import BeautifulSoup\n",
        "import pandas as pd\n",
        "import numpy as np\n",
        "\n",
        "from datetime import datetime, timedelta\n",
        "\n",
        "from wordcloud import WordCloud #visualization\n",
        "import matplotlib.pyplot as plt"
      ],
      "metadata": {
        "id": "9ZL0e9FD8ooB"
      },
      "execution_count": 1,
      "outputs": []
    },
    {
      "cell_type": "code",
      "source": [
        "!pip install nltk\n",
        "\n",
        "import nltk\n",
        "nltk.download('word_tokenize')\n",
        "nltk.download('punkt')\n",
        "nltk.download('stopwords')\n",
        "\n",
        "from nltk import word_tokenize #чтобы поделить текст на токены\n",
        "from nltk import ngrams\n",
        "from nltk.corpus import stopwords\n",
        "\n",
        "from pymystem3 import Mystem\n",
        "mystem_analyzer = Mystem()\n",
        "\n",
        "from nltk.probability import FreqDist #чтобы посчитать частоту\n",
        "\n",
        "!pip install pymorphy3\n",
        "!pip install navec\n",
        "\n",
        "import pymorphy3\n",
        "from navec import Navec\n",
        "\n",
        "!wget https://storage.yandexcloud.net/natasha-navec/packs/navec_hudlit_v1_12B_500K_300d_100q.tar -O navec_hudlit_v1_12B_500K_300d_100q.tar\n",
        "navec = Navec.load('navec_hudlit_v1_12B_500K_300d_100q.tar')\n",
        "\n",
        "nltk.download('punkt')"
      ],
      "metadata": {
        "colab": {
          "base_uri": "https://localhost:8080/"
        },
        "id": "O1oxLGJn3ra_",
        "outputId": "d69ed5f8-c1ab-4190-edd6-d1022882e4e3"
      },
      "execution_count": 2,
      "outputs": [
        {
          "output_type": "stream",
          "name": "stdout",
          "text": [
            "Requirement already satisfied: nltk in /usr/local/lib/python3.10/dist-packages (3.8.1)\n",
            "Requirement already satisfied: click in /usr/local/lib/python3.10/dist-packages (from nltk) (8.1.7)\n",
            "Requirement already satisfied: joblib in /usr/local/lib/python3.10/dist-packages (from nltk) (1.3.2)\n",
            "Requirement already satisfied: regex>=2021.8.3 in /usr/local/lib/python3.10/dist-packages (from nltk) (2023.12.25)\n",
            "Requirement already satisfied: tqdm in /usr/local/lib/python3.10/dist-packages (from nltk) (4.66.2)\n"
          ]
        },
        {
          "output_type": "stream",
          "name": "stderr",
          "text": [
            "[nltk_data] Error loading word_tokenize: Package 'word_tokenize' not\n",
            "[nltk_data]     found in index\n",
            "[nltk_data] Downloading package punkt to /root/nltk_data...\n",
            "[nltk_data]   Unzipping tokenizers/punkt.zip.\n",
            "[nltk_data] Downloading package stopwords to /root/nltk_data...\n",
            "[nltk_data]   Unzipping corpora/stopwords.zip.\n",
            "Installing mystem to /root/.local/bin/mystem from http://download.cdn.yandex.net/mystem/mystem-3.1-linux-64bit.tar.gz\n"
          ]
        },
        {
          "output_type": "stream",
          "name": "stdout",
          "text": [
            "Collecting pymorphy3\n",
            "  Downloading pymorphy3-2.0.1-py3-none-any.whl (53 kB)\n",
            "\u001b[2K     \u001b[90m━━━━━━━━━━━━━━━━━━━━━━━━━━━━━━━━━━━━━━━━\u001b[0m \u001b[32m53.2/53.2 kB\u001b[0m \u001b[31m1.4 MB/s\u001b[0m eta \u001b[36m0:00:00\u001b[0m\n",
            "\u001b[?25hCollecting dawg-python>=0.7.1 (from pymorphy3)\n",
            "  Downloading DAWG_Python-0.7.2-py2.py3-none-any.whl (11 kB)\n",
            "Collecting pymorphy3-dicts-ru (from pymorphy3)\n",
            "  Downloading pymorphy3_dicts_ru-2.4.417150.4580142-py2.py3-none-any.whl (8.4 MB)\n",
            "\u001b[2K     \u001b[90m━━━━━━━━━━━━━━━━━━━━━━━━━━━━━━━━━━━━━━━━\u001b[0m \u001b[32m8.4/8.4 MB\u001b[0m \u001b[31m53.2 MB/s\u001b[0m eta \u001b[36m0:00:00\u001b[0m\n",
            "\u001b[?25hInstalling collected packages: pymorphy3-dicts-ru, dawg-python, pymorphy3\n",
            "Successfully installed dawg-python-0.7.2 pymorphy3-2.0.1 pymorphy3-dicts-ru-2.4.417150.4580142\n",
            "Collecting navec\n",
            "  Downloading navec-0.10.0-py3-none-any.whl (23 kB)\n",
            "Requirement already satisfied: numpy in /usr/local/lib/python3.10/dist-packages (from navec) (1.25.2)\n",
            "Installing collected packages: navec\n",
            "Successfully installed navec-0.10.0\n",
            "--2024-04-01 20:56:55--  https://storage.yandexcloud.net/natasha-navec/packs/navec_hudlit_v1_12B_500K_300d_100q.tar\n",
            "Resolving storage.yandexcloud.net (storage.yandexcloud.net)... 213.180.193.243, 2a02:6b8::1d9\n",
            "Connecting to storage.yandexcloud.net (storage.yandexcloud.net)|213.180.193.243|:443... connected.\n",
            "HTTP request sent, awaiting response... 200 OK\n",
            "Length: 53012480 (51M) [application/x-tar]\n",
            "Saving to: ‘navec_hudlit_v1_12B_500K_300d_100q.tar’\n",
            "\n",
            "navec_hudlit_v1_12B 100%[===================>]  50.56M  10.1MB/s    in 7.0s    \n",
            "\n",
            "2024-04-01 20:57:04 (7.26 MB/s) - ‘navec_hudlit_v1_12B_500K_300d_100q.tar’ saved [53012480/53012480]\n",
            "\n"
          ]
        },
        {
          "output_type": "stream",
          "name": "stderr",
          "text": [
            "[nltk_data] Downloading package punkt to /root/nltk_data...\n",
            "[nltk_data]   Package punkt is already up-to-date!\n"
          ]
        },
        {
          "output_type": "execute_result",
          "data": {
            "text/plain": [
              "True"
            ]
          },
          "metadata": {},
          "execution_count": 2
        }
      ]
    },
    {
      "cell_type": "code",
      "source": [
        "import warnings\n",
        "warnings.filterwarnings('ignore')"
      ],
      "metadata": {
        "id": "za89wVqivE-c"
      },
      "execution_count": 145,
      "outputs": []
    },
    {
      "cell_type": "code",
      "source": [
        "random_state = 42\n",
        "max_len = 100\n",
        "vector_size = 300"
      ],
      "metadata": {
        "id": "IDpWgv2i7DQL"
      },
      "execution_count": 93,
      "outputs": []
    },
    {
      "cell_type": "markdown",
      "source": [
        "### 2. Парсинг новостных текстов"
      ],
      "metadata": {
        "id": "aX9vt7nW5mfs"
      }
    },
    {
      "cell_type": "code",
      "source": [
        "base_url='https://ru.euronews.com'\n",
        "\n",
        "def search (day):\n",
        "    text=''\n",
        "    resp=requests.get(base_url+day)\n",
        "\n",
        "    soup=BeautifulSoup(resp.text)\n",
        "    article=[]\n",
        "    link=[]\n",
        "\n",
        "    for article_tag in soup.find_all('article'):\n",
        "      h2_tag=article_tag.find('h3')\n",
        "      new=h2_tag.text.strip()\n",
        "      text+=(' '+new)\n",
        "\n",
        "    return text"
      ],
      "metadata": {
        "id": "655YieOU2hCV"
      },
      "execution_count": 4,
      "outputs": []
    },
    {
      "cell_type": "code",
      "source": [
        "def get_dates(delta):\n",
        "    date_format = '/%Y/%m/%d'\n",
        "    today = datetime.now()-timedelta(days=delta)\n",
        "    return today.strftime(date_format)"
      ],
      "metadata": {
        "id": "ymv4HMMXI50-"
      },
      "execution_count": 5,
      "outputs": []
    },
    {
      "cell_type": "code",
      "source": [
        "articles_yesterday=search(get_dates(1))\n",
        "articles_yesterday"
      ],
      "metadata": {
        "colab": {
          "base_uri": "https://localhost:8080/",
          "height": 139
        },
        "id": "pRlRaGrK8E6Y",
        "outputId": "518bbf34-8fa8-427a-e7a8-d61cffcba4c0"
      },
      "execution_count": 7,
      "outputs": [
        {
          "output_type": "execute_result",
          "data": {
            "text/plain": [
              "' Большой шлем в Анталье: дзюдоисты Франции завоевали три золотые медали Газа: двое погибших в результате авиаудара по двору больницы \"Аль-Акса\". ЦАХАЛ: целью были боевики Оппозиция лидирует на муниципальных выборах в Турции – подсчитано более 90% голосов В Болгарии и Румынии отметили частичное вступление в Шенген \"Граду и миру\": папа римский призвал Россию и Украину обменять всех пленных Карл III впервые появился на публике после онкологического диагноза В Токио и Бонне - сезон цветения сакуры Война в Газе: в Каире возобновляются переговоры о перемирии Spitzenkandidaten: демократический инструмент или политическая шарада? Болгария и Румыния стали частью Шенгенской зоны Папа римский Франциск призвал сохранять радость и надежду'"
            ],
            "application/vnd.google.colaboratory.intrinsic+json": {
              "type": "string"
            }
          },
          "metadata": {},
          "execution_count": 7
        }
      ]
    },
    {
      "cell_type": "code",
      "source": [
        "articles_today=search(get_dates(0))\n",
        "articles_today"
      ],
      "metadata": {
        "colab": {
          "base_uri": "https://localhost:8080/",
          "height": 191
        },
        "id": "WgdjnhORdJpW",
        "outputId": "8634371e-d992-41d5-c1d4-503e07e788e5"
      },
      "execution_count": 8,
      "outputs": [
        {
          "output_type": "execute_result",
          "data": {
            "text/plain": [
              "' Венгерские пасхальные традиции: в Холлокё женщин обливают водой Шенген соединил Софию и Бухарест Крупный пожар в Екатеринбурге: возгорание ликвидировано, жертв нет Иранское консульство в Дамаске разрушено в результате удара Израиля - СМИ Столкновение под Ярославлем: диспетчер мог быть пьян — губернатор Новости дня | 1 апреля — вечерний выпуск Жара на Кипре: температура воздуха превысила 30°C World Nature Photography Awards 2024: природа в фокусе Израиль вывел войска из больничного комплекса Аш-Шифа в секторе Газа Москва отвергает обвинения в причастности к \"гаванскому синдрому\" Выборы в Турции: оппозиция одержала победу на местных выборах Пятерка за реактивность: в ЕС позитивно оценили роль Брюсселя в пандемию В Румынии зафиксирован самый теплый конец марта за последние 77 лет Лиссабон: наука и инновации \"с человеческим лицом\" Сафранболу: город, известный османскими домами и «красным золотом» Франция призывает Китай повлиять на Россию Где в Европе наблюдается наибольшее неравенство в благосостоянии? Соответствует ли ЕС своему назначению? Поиски на шахте \"Пионер\" прекращены, горняки считаются погибшими Новости дня | 1 апреля — дневной выпуск В Бельгии найдены 30 кассет с неизданными песнями Марвина Гэя Германия легализовала выращивание, хранение и употребление марихуаны Словакия: полиция ищет медведя после нового нападения Янник Синнер выиграл Miami Open Французские эксперты выехали на место обнаружения останков Эмиля Солей В Дагестане задержали подозреваемых в терроризме Российские авиаудары по Львову и Харькову От древнеримских мистерий до современной политической сатиры: как европейцы отмечают день дурака? Крупнейшая антиправительственная манифестация с начала войны в Газе Новости дня | 1 апреля — утренний выпуск'"
            ],
            "application/vnd.google.colaboratory.intrinsic+json": {
              "type": "string"
            }
          },
          "metadata": {},
          "execution_count": 8
        }
      ]
    },
    {
      "cell_type": "code",
      "source": [
        "articles = articles_yesterday + articles_today"
      ],
      "metadata": {
        "id": "8zxy22oRdahQ"
      },
      "execution_count": 9,
      "outputs": []
    },
    {
      "cell_type": "markdown",
      "source": [
        "### 3. Предобработка текста"
      ],
      "metadata": {
        "id": "D9hiwQd2p_Iw"
      }
    },
    {
      "cell_type": "markdown",
      "source": [
        "Создаем функцию, которая приводит весь текст к одному регистру, токенизирует, убирает пунктуацию, приводит слова к нормальной форме и очищает текст от неинформативных слов"
      ],
      "metadata": {
        "id": "D9yX5J2osSYM"
      }
    },
    {
      "cell_type": "code",
      "source": [
        "def preprocess(text, stop_words, punctuation_marks, morph):\n",
        "    tokens = word_tokenize(text.lower())\n",
        "    preprocessed_text = []\n",
        "    for token in tokens:\n",
        "        if token not in punctuation_marks and token.isalpha():\n",
        "            lemma = morph.parse(token)[0].normal_form\n",
        "            if lemma not in stop_words:\n",
        "                preprocessed_text.append(lemma)\n",
        "    return preprocessed_text"
      ],
      "metadata": {
        "id": "WHyOVQd655pP"
      },
      "execution_count": 123,
      "outputs": []
    },
    {
      "cell_type": "code",
      "source": [
        "punctuation_marks = ['!', ',', '(', ')', ':', '-', '?', '.', '..', '...', '«', '»', ';', '–', '--']\n",
        "morph = pymorphy3.MorphAnalyzer()"
      ],
      "metadata": {
        "id": "PPVOa5n3562d"
      },
      "execution_count": 124,
      "outputs": []
    },
    {
      "cell_type": "code",
      "source": [
        "nltk.download('stopwords')\n",
        "stop_words = stopwords.words(\"russian\")\n",
        "stop_words.extend(['день', 'апрель', 'новость', 'выпуск'])"
      ],
      "metadata": {
        "colab": {
          "base_uri": "https://localhost:8080/"
        },
        "id": "lnV8zEbVaS8u",
        "outputId": "41e8a08c-cffb-447d-b349-1f6e05550e2e"
      },
      "execution_count": 125,
      "outputs": [
        {
          "output_type": "stream",
          "name": "stderr",
          "text": [
            "[nltk_data] Downloading package stopwords to /root/nltk_data...\n",
            "[nltk_data]   Package stopwords is already up-to-date!\n"
          ]
        }
      ]
    },
    {
      "cell_type": "code",
      "source": [
        "articles[:300]"
      ],
      "metadata": {
        "colab": {
          "base_uri": "https://localhost:8080/",
          "height": 70
        },
        "id": "tE4wlL5utAfV",
        "outputId": "930d93fc-9641-4aa4-f0af-0dae928b0e09"
      },
      "execution_count": 128,
      "outputs": [
        {
          "output_type": "execute_result",
          "data": {
            "text/plain": [
              "' Большой шлем в Анталье: дзюдоисты Франции завоевали три золотые медали Газа: двое погибших в результате авиаудара по двору больницы \"Аль-Акса\". ЦАХАЛ: целью были боевики Оппозиция лидирует на муниципальных выборах в Турции – подсчитано более 90% голосов В Болгарии и Румынии отметили частичное вступ'"
            ],
            "application/vnd.google.colaboratory.intrinsic+json": {
              "type": "string"
            }
          },
          "metadata": {},
          "execution_count": 128
        }
      ]
    },
    {
      "cell_type": "code",
      "source": [
        "txt = preprocess(articles, stop_words, punctuation_marks,morph)\n",
        "print(*txt[:30])"
      ],
      "metadata": {
        "colab": {
          "base_uri": "https://localhost:8080/"
        },
        "id": "IIRm8NuB6CDi",
        "outputId": "484b4423-fe56-4661-d0fc-c72095e6c4df"
      },
      "execution_count": 130,
      "outputs": [
        {
          "output_type": "stream",
          "name": "stdout",
          "text": [
            "большой шлем анталья дзюдоист франция завоевать золотой медаль газ двое погибнуть результат авиаудар двор больница цахать цель боевик оппозиция лидировать муниципальный выборы турция подсчитать голос болгария румыния отметить частичный вступление\n"
          ]
        }
      ]
    },
    {
      "cell_type": "markdown",
      "source": [
        "### Обработка художественного текста по тому же алгоритму"
      ],
      "metadata": {
        "id": "LKxX_QlQvuo3"
      }
    },
    {
      "cell_type": "code",
      "source": [
        "from google.colab import files\n",
        "files.upload()"
      ],
      "metadata": {
        "id": "3Bc7LlCoigJu"
      },
      "execution_count": null,
      "outputs": []
    },
    {
      "cell_type": "code",
      "source": [
        "#кладем в перемнную текст\n",
        "TRAIN_TEXT_FILE_PATH = 'posl.txt'\n",
        "\n",
        "with open(TRAIN_TEXT_FILE_PATH) as text_file:\n",
        "    text = text_file.readlines()\n",
        "text = ' '.join(text)\n",
        "\n",
        "posl=text\n",
        "print(posl[:300])"
      ],
      "metadata": {
        "colab": {
          "base_uri": "https://localhost:8080/"
        },
        "id": "1MgW_MxIv19v",
        "outputId": "36ca10f0-daa0-44b4-a677-b0cda4159dcb"
      },
      "execution_count": 138,
      "outputs": [
        {
          "output_type": "stream",
          "name": "stdout",
          "text": [
            "﻿     Без людей нет жизни.\n",
            "      Безумно живому человеку о смерти думать.\n",
            "      В добром житье лицо белится, в плохом —чернится.\n",
            "      В жизни все меняется, а еще и не то случается.\n",
            "      Век долог – всем полон.\n",
            "      Век живи – век надейся.\n",
            "      Век живи – век трудись, а трудясь – век учись.\n",
            "     \n"
          ]
        }
      ]
    },
    {
      "cell_type": "markdown",
      "source": [
        "Делим текст на отдельные пословицы - в данном документе все просто: каждая пословица это одно предложение, которое заканчивается точкой."
      ],
      "metadata": {
        "id": "uN3fyj2pzTPm"
      }
    },
    {
      "cell_type": "code",
      "source": [
        "posl=posl.split('.')"
      ],
      "metadata": {
        "id": "1DzhwKJFy8--"
      },
      "execution_count": 139,
      "outputs": []
    },
    {
      "cell_type": "code",
      "source": [
        "print(posl[0])"
      ],
      "metadata": {
        "colab": {
          "base_uri": "https://localhost:8080/"
        },
        "id": "-NumXLO-3amr",
        "outputId": "1dbc23a0-a1df-4bff-e022-5080691b94b4"
      },
      "execution_count": 140,
      "outputs": [
        {
          "output_type": "stream",
          "name": "stdout",
          "text": [
            "﻿     Без людей нет жизни\n"
          ]
        }
      ]
    },
    {
      "cell_type": "markdown",
      "source": [
        "Всего у нас почти 2,5 тысячи коротких текстов"
      ],
      "metadata": {
        "id": "0wWP_G1At5ZY"
      }
    },
    {
      "cell_type": "code",
      "source": [
        "len(posl)"
      ],
      "metadata": {
        "colab": {
          "base_uri": "https://localhost:8080/"
        },
        "id": "SUIDbTU_4kuR",
        "outputId": "b12245aa-269a-4ccc-fc12-9da4afc00637"
      },
      "execution_count": 141,
      "outputs": [
        {
          "output_type": "execute_result",
          "data": {
            "text/plain": [
              "2496"
            ]
          },
          "metadata": {},
          "execution_count": 141
        }
      ]
    },
    {
      "cell_type": "markdown",
      "source": [
        "Предобрабатываем текст:"
      ],
      "metadata": {
        "id": "limZWMiMuATN"
      }
    },
    {
      "cell_type": "code",
      "source": [
        "prep_posl = [preprocess(p, punctuation_marks, stop_words, morph) for p in posl]"
      ],
      "metadata": {
        "id": "dQVj486sXCe2"
      },
      "execution_count": 142,
      "outputs": []
    },
    {
      "cell_type": "code",
      "source": [
        "print(*prep_posl[0])"
      ],
      "metadata": {
        "colab": {
          "base_uri": "https://localhost:8080/"
        },
        "id": "oV3756skZyAu",
        "outputId": "ce9b9a22-07f4-47ad-de98-a687d3d4d9a0"
      },
      "execution_count": 143,
      "outputs": [
        {
          "output_type": "stream",
          "name": "stdout",
          "text": [
            "человек жизнь\n"
          ]
        }
      ]
    },
    {
      "cell_type": "markdown",
      "source": [
        "### 4. Векторизация текстов при помощи плотных векторных представлений и библиотеки Navec"
      ],
      "metadata": {
        "id": "JbngJT1LuEl3"
      }
    },
    {
      "cell_type": "code",
      "source": [
        "def vectorize_text(txt, navec, max_len):\n",
        "    unk = navec['<unk>']\n",
        "    text_embeddings = []\n",
        "    for tocken in txt:\n",
        "        embedding = navec.get(tocken, unk)\n",
        "        text_embeddings.append(embedding)\n",
        "    # Дополняем или обрезаем отзывы для фиксированной длины max_review_len\n",
        "    l = len(text_embeddings)\n",
        "    if l > max_len:\n",
        "        text_embeddings = text_embeddings[:max_len]\n",
        "    else:\n",
        "        text_embeddings.extend([navec['<pad>']] * (max_len - l))\n",
        "    return text_embeddings"
      ],
      "metadata": {
        "id": "ptEN7oHeXWSJ"
      },
      "execution_count": 94,
      "outputs": []
    },
    {
      "cell_type": "code",
      "source": [
        "vec_posl = [vectorize_text(p, navec, max_len) for p in prep_posl]"
      ],
      "metadata": {
        "id": "tZQPqvWlXZEm"
      },
      "execution_count": 95,
      "outputs": []
    },
    {
      "cell_type": "code",
      "source": [
        "np.array(vec_posl[0]).shape"
      ],
      "metadata": {
        "colab": {
          "base_uri": "https://localhost:8080/"
        },
        "id": "MXfwz-KtXhK7",
        "outputId": "3000ad90-117b-4cc4-c70d-7b12886cae57"
      },
      "execution_count": 96,
      "outputs": [
        {
          "output_type": "execute_result",
          "data": {
            "text/plain": [
              "(100, 300)"
            ]
          },
          "metadata": {},
          "execution_count": 96
        }
      ]
    },
    {
      "cell_type": "code",
      "source": [
        "posl_emb = [np.array(e).reshape(vector_size * max_len) for e in vec_posl]"
      ],
      "metadata": {
        "id": "3Gqa3RLqbyp4"
      },
      "execution_count": 97,
      "outputs": []
    },
    {
      "cell_type": "code",
      "source": [
        "np.array(posl_emb[0]).shape"
      ],
      "metadata": {
        "colab": {
          "base_uri": "https://localhost:8080/"
        },
        "id": "zhFzS9p0cSLW",
        "outputId": "d17011df-20c3-4f89-e211-c83e700f6b89"
      },
      "execution_count": 98,
      "outputs": [
        {
          "output_type": "execute_result",
          "data": {
            "text/plain": [
              "(30000,)"
            ]
          },
          "metadata": {},
          "execution_count": 98
        }
      ]
    },
    {
      "cell_type": "code",
      "source": [
        "news_vec = vectorize_text(txt, navec, max_len)\n",
        "news_vec = np.array(news_vec).reshape(vector_size * max_len)\n",
        "news_vec.shape"
      ],
      "metadata": {
        "colab": {
          "base_uri": "https://localhost:8080/"
        },
        "id": "uwE7IObEcm0T",
        "outputId": "421d2712-ec43-4497-9a3a-8f3364d9fdcd"
      },
      "execution_count": 99,
      "outputs": [
        {
          "output_type": "execute_result",
          "data": {
            "text/plain": [
              "(30000,)"
            ]
          },
          "metadata": {},
          "execution_count": 99
        }
      ]
    },
    {
      "cell_type": "code",
      "source": [
        "posl_emb_list = [list(p) for p in posl_emb]"
      ],
      "metadata": {
        "id": "X-EaM3uQezMO"
      },
      "execution_count": 100,
      "outputs": []
    },
    {
      "cell_type": "code",
      "source": [
        "news_vec_list=list(news_vec)"
      ],
      "metadata": {
        "id": "cXwvWdL1fKfZ"
      },
      "execution_count": 101,
      "outputs": []
    },
    {
      "cell_type": "markdown",
      "source": [
        "### 5. Функция для подсчета векторного расстояния между векторами текстов новостей и художественных текстов"
      ],
      "metadata": {
        "id": "0vjJcLAoubDH"
      }
    },
    {
      "cell_type": "code",
      "source": [
        "#Евклидово расстояние\n",
        "d = np.sum([(news_vec[i]-posl_emb[3][i])**2 for i in range(29000)])\n",
        "d"
      ],
      "metadata": {
        "colab": {
          "base_uri": "https://localhost:8080/"
        },
        "id": "6k7wgfBkhPWc",
        "outputId": "b0fcedb7-bfb3-4e2a-fa7f-76e2255e4be7"
      },
      "execution_count": 102,
      "outputs": [
        {
          "output_type": "execute_result",
          "data": {
            "text/plain": [
              "3215.3474424747274"
            ]
          },
          "metadata": {},
          "execution_count": 102
        }
      ]
    },
    {
      "cell_type": "code",
      "source": [
        "'''def best_poem(all_poems, news):\n",
        "  min_dist = 5000\n",
        "  idx = 0\n",
        "  for poem in all_poems:\n",
        "    distance = np.sqrt(np.sum([(news[i]-poem[i])**2 for i in range(len(news))]))\n",
        "    if distance < min_dist:\n",
        "      min_dist = distance\n",
        "      idx = all_poems.index(poem)\n",
        "  return idx'''"
      ],
      "metadata": {
        "id": "hm2Ef5p5dKl-"
      },
      "execution_count": 103,
      "outputs": []
    },
    {
      "cell_type": "code",
      "source": [
        "#косинусное расстояние\n",
        "def best_poem_cos(all_poems, news):\n",
        "  min_cos = 1\n",
        "  idx = 0\n",
        "  for poem in all_poems:\n",
        "    dot=np.dot(poem, news)\n",
        "    cos=dot/(np.linalg.norm(poem)*np.linalg.norm(news))\n",
        "    if cos < min_cos:\n",
        "      min_cos = cos\n",
        "      idx = all_poems.index(poem)\n",
        "  return idx"
      ],
      "metadata": {
        "id": "ErOuqDzZ2wWm"
      },
      "execution_count": 144,
      "outputs": []
    },
    {
      "cell_type": "markdown",
      "source": [
        "### 6. Визуализация: сравниваем выведенный текст и ключевые слова, извлеченные из новостей"
      ],
      "metadata": {
        "id": "iNrpkYuevNQ5"
      }
    },
    {
      "cell_type": "code",
      "source": [
        "print(posl[best_poem_cos(posl_emb_list, news_vec_list)])"
      ],
      "metadata": {
        "colab": {
          "base_uri": "https://localhost:8080/"
        },
        "id": "6EaYq_oBcNxD",
        "outputId": "a5d47ebf-97c3-4da8-c0be-a5db68182618"
      },
      "execution_count": 146,
      "outputs": [
        {
          "output_type": "stream",
          "name": "stdout",
          "text": [
            "\n",
            "      От него ни отмолиться, ни отчураться\n"
          ]
        }
      ]
    },
    {
      "cell_type": "code",
      "source": [
        "fdist=FreqDist(txt)\n",
        "#fdist.most_common(15)"
      ],
      "metadata": {
        "id": "kP4A50aIlXSR"
      },
      "execution_count": 147,
      "outputs": []
    },
    {
      "cell_type": "code",
      "source": [
        "# переводим всё в текстовый формат\n",
        "text_raw = \" \".join(fdist)\n",
        "# готовим размер картинки\n",
        "wordcloud = WordCloud(width=560, height=400, max_words=25, background_color=\"white\", colormap='flag', collocations=False).generate(text_raw)"
      ],
      "metadata": {
        "id": "Hjy8YN-X17SQ"
      },
      "execution_count": 148,
      "outputs": []
    },
    {
      "cell_type": "code",
      "source": [
        "plt.imshow(wordcloud)\n",
        "#plt.savefig('foo.jpg')"
      ],
      "metadata": {
        "colab": {
          "base_uri": "https://localhost:8080/",
          "height": 420
        },
        "id": "qyARyBD0dQWL",
        "outputId": "1853316b-baa8-4d8a-aa74-7c8767b70851"
      },
      "execution_count": 149,
      "outputs": [
        {
          "output_type": "display_data",
          "data": {
            "text/plain": [
              "<Figure size 640x480 with 1 Axes>"
            ],
            "image/png": "[encoded data removed]"
          },
          "metadata": {}
        }
      ]
    },
    {
      "cell_type": "markdown",
      "source": [
        "### 7. Выводы:\n",
        "\n",
        "Поэскпериментировать удалось, результат не такой прекрасный, как хотелось бы. Художественный текст не очень хорошо соотносится по смыслу с новостями. Вот идеи, какие недоработки могли к этому привести, и как улучшить работу:\n",
        "\n",
        "1. Следует поработать с извлечением именованных сущностей в тексте. Видно, что смысл некоторых слов потерялся (важные смысловые сочетания 'папа римский', 'Сектор Газа' разбились на части и потеряли смысл, 'Цахал' склоняется как глагол и тд)\n",
        "2. Следует подобрать другие художественные тексты - большего объема, чтобы они были лучше сопоставимы с новостными текстами. Может, стоит вернуться к поэтическим произведениям или еще какому-то формату емких, но не настолько коротких, как пословицы, текстов.\n",
        "3. Возможно, стоит расширить источник новостей и дописать парсер еще для какого-то ресурса. Предполагаю, что в большем объеме текста будет проще понять, какие темы действительно самые значимые в конкретный день - так как одни и те же события будут упоминаться у каждого источника.\n",
        "4. В перспективе расширения этой работы также попробовать подать выделенные ключевые слова генеративной модели, чтобы получить иллюстрацию к событиям дня."
      ],
      "metadata": {
        "id": "DpBMXzrMvgMQ"
      }
    }
  ]
}